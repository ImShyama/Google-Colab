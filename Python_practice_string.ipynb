{
  "nbformat": 4,
  "nbformat_minor": 0,
  "metadata": {
    "colab": {
      "name": "Python-practice-string.ipynb",
      "provenance": [],
      "authorship_tag": "ABX9TyNoSC+7w8Oczpkd5y95AWve",
      "include_colab_link": true
    },
    "kernelspec": {
      "name": "python3",
      "display_name": "Python 3"
    },
    "language_info": {
      "name": "python"
    }
  },
  "cells": [
    {
      "cell_type": "markdown",
      "metadata": {
        "id": "view-in-github",
        "colab_type": "text"
      },
      "source": [
        "<a href=\"https://colab.research.google.com/github/ImShyama/Google-Colab/blob/main/Python_practice_string.ipynb\" target=\"_parent\"><img src=\"https://colab.research.google.com/assets/colab-badge.svg\" alt=\"Open In Colab\"/></a>"
      ]
    },
    {
      "cell_type": "markdown",
      "metadata": {
        "id": "EhQfRtr8ezic"
      },
      "source": [
        "## convert the characters of the string into opposite case,i.e. if a character is lower case then convert it into upper case and vice-versa. \n",
        "\n"
      ]
    },
    {
      "cell_type": "code",
      "metadata": {
        "colab": {
          "base_uri": "https://localhost:8080/"
        },
        "id": "doWXWzLefPOe",
        "outputId": "c3e3f57d-4ca5-43f2-ea67-6399ec78865d"
      },
      "source": [
        "# Python3 program to Convert characters\n",
        "# of a string to opposite case\n",
        " \n",
        "# Function to convert characters\n",
        "# of a string to opposite case\n",
        "def convertOpposite(str):\n",
        "    ln = len(str)\n",
        " \n",
        "    # Conversion according to ASCII values\n",
        "    for i in range(ln):\n",
        "        if str[i] >= 'a' and str[i] <= 'z':\n",
        " \n",
        "            # Convert lowercase to uppercase\n",
        "            str[i] = chr(ord(str[i]) - 32)\n",
        " \n",
        "        elif str[i] >= 'A' and str[i] <= 'Z':\n",
        " \n",
        "            # Convert lowercase to uppercase\n",
        "            str[i] = chr(ord(str[i]) + 32)\n",
        " \n",
        "# Driver code\n",
        "if __name__ == \"__main__\":\n",
        "    str = \"GeEkSfOrGeEkS\"\n",
        "    str = list(str)\n",
        " \n",
        "    # Calling the Function\n",
        "    convertOpposite(str)\n",
        " \n",
        "    str = ''.join(str)\n",
        "    print(str)"
      ],
      "execution_count": 1,
      "outputs": [
        {
          "output_type": "stream",
          "name": "stdout",
          "text": [
            "gEeKsFoRgEeKs\n"
          ]
        }
      ]
    }
  ]
}